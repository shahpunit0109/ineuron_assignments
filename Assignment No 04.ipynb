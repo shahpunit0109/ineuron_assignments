{
 "cells": [
  {
   "cell_type": "markdown",
   "id": "744cd956",
   "metadata": {},
   "source": [
    "## 1.1 Write a Python Program(with class concepts) to find the area of the triangle using the below formula.\n",
    "### area = (s*(s-a)*(s-b)*(s-c)) ** 0.5\n",
    "## Function to take the length of the sides of triangle from user should be defined in the parent class and function to calculate the area should be defined in subclass."
   ]
  },
  {
   "cell_type": "code",
   "execution_count": 1,
   "id": "62369d06",
   "metadata": {},
   "outputs": [
    {
     "name": "stdout",
     "output_type": "stream",
     "text": [
      "Enter the value of a:13\n",
      "Enter the value of b:15\n",
      "Enter the value of c:9\n",
      "area of the triangle: 1691.59375\n"
     ]
    }
   ],
   "source": [
    "class shape:\n",
    "    def __init__(self,a,b,c):\n",
    "        self.a = float(a)\n",
    "        self.b = float(b)\n",
    "        self.c = float(c)\n",
    "        self.area = 0\n",
    "\n",
    "class triangle(shape):\n",
    "    def __init__(self,a,b,c):\n",
    "        shape.__init__(self,a,b,c)\n",
    "    \n",
    "    def calculate_area(self):    \n",
    "        s = (self.a + self.b + self.c ) / 2\n",
    "        self.area = float((s * (s - self.a) * (s - self.b) * (s - self.c))) * 0.5\n",
    "    \n",
    "    def get_area(self):\n",
    "        return self.area\n",
    "    \n",
    "a = input(\"Enter the value of a:\")   \n",
    "b = input(\"Enter the value of b:\") \n",
    "c = input(\"Enter the value of c:\") \n",
    "\n",
    "t = triangle(a, b, c)\n",
    "t.calculate_area()\n",
    "print(\"area of the triangle: {}\".format(t.get_area()))"
   ]
  },
  {
   "cell_type": "markdown",
   "id": "27c18057",
   "metadata": {},
   "source": [
    "## 1.2 Write a function filter_long_words() that takes a list of words and an integer n and returns the list of words that are longer than n."
   ]
  },
  {
   "cell_type": "code",
   "execution_count": 2,
   "id": "be5c3b11",
   "metadata": {},
   "outputs": [
    {
     "data": {
      "text/plain": [
       "['ineuron', 'machinelearning', 'datascience', 'sambhav']"
      ]
     },
     "execution_count": 2,
     "metadata": {},
     "output_type": "execute_result"
    }
   ],
   "source": [
    "def filter_long_words(a,b):\n",
    "    list_to_return = []\n",
    "    for word in a:\n",
    "        if len(word) > b:\n",
    "            list_to_return.append(word)\n",
    "    return list_to_return\n",
    "\n",
    "list_of_words = ['punit','ineuron','abcd','efdgh','rahil','machinelearning','datascience','ok','hi','hello','sambhav']\n",
    "integer_length = 5\n",
    "filter_long_words(list_of_words,integer_length)"
   ]
  },
  {
   "cell_type": "markdown",
   "id": "ca9a2427",
   "metadata": {},
   "source": [
    "## 2.1 Write a Python program using function concept that maps list of words into a list of integers representing the lengths of the corresponding words.\n",
    "### Hint: If a list [ ab,cde,erty] is passed on to the python function output should come as [2,3,4]\n",
    "## Here 2,3 and 4 are the lengths of the words in the list."
   ]
  },
  {
   "cell_type": "code",
   "execution_count": 3,
   "id": "1aa254bf",
   "metadata": {},
   "outputs": [
    {
     "data": {
      "text/plain": [
       "[5, 7, 4, 5, 15, 11, 5]"
      ]
     },
     "execution_count": 3,
     "metadata": {},
     "output_type": "execute_result"
    }
   ],
   "source": [
    "def len_of_words(a):\n",
    "    list_of_wordlength = []\n",
    "    for word in a:\n",
    "        list_of_wordlength.append(len(word))\n",
    "        \n",
    "    return list_of_wordlength\n",
    "        \n",
    "\n",
    "list_of_words = ['punit','ineuron','abcd','efdgh','machinelearning','datascience','hello']\n",
    "len_of_words(list_of_words)"
   ]
  },
  {
   "cell_type": "markdown",
   "id": "d1de5824",
   "metadata": {},
   "source": [
    "## 2.2 Write a Python function which takes a character (i.e. a string of length 1) and returns True if it is a vowel, False otherwise."
   ]
  },
  {
   "cell_type": "code",
   "execution_count": 4,
   "id": "247c9496",
   "metadata": {},
   "outputs": [
    {
     "name": "stdout",
     "output_type": "stream",
     "text": [
      "Enter the character: g\n"
     ]
    },
    {
     "data": {
      "text/plain": [
       "'False'"
      ]
     },
     "execution_count": 4,
     "metadata": {},
     "output_type": "execute_result"
    }
   ],
   "source": [
    "def fun_vowel(char):\n",
    "    list_of_vowels = ['a','e','i','o','u','A','E','I','O','U']\n",
    "    if char in list_of_vowels:\n",
    "        return (\"True\")\n",
    "    else:\n",
    "        return(\"False\")\n",
    "\n",
    "\n",
    "character = input(\"Enter the character: \")\n",
    "fun_vowel(character)"
   ]
  },
  {
   "cell_type": "code",
   "execution_count": null,
   "id": "892331cd",
   "metadata": {},
   "outputs": [],
   "source": []
  }
 ],
 "metadata": {
  "kernelspec": {
   "display_name": "Python 3",
   "language": "python",
   "name": "python3"
  },
  "language_info": {
   "codemirror_mode": {
    "name": "ipython",
    "version": 3
   },
   "file_extension": ".py",
   "mimetype": "text/x-python",
   "name": "python",
   "nbconvert_exporter": "python",
   "pygments_lexer": "ipython3",
   "version": "3.8.5"
  }
 },
 "nbformat": 4,
 "nbformat_minor": 5
}

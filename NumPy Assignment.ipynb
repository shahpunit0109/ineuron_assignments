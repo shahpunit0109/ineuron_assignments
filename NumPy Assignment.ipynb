{
 "cells": [
  {
   "cell_type": "code",
   "execution_count": 1,
   "id": "6e45074a",
   "metadata": {},
   "outputs": [],
   "source": [
    "import numpy as np"
   ]
  },
  {
   "cell_type": "markdown",
   "id": "3fa99f77",
   "metadata": {},
   "source": [
    "## Question: Write a function to find moving average in an array over a window:\n",
    "### Test it over [3, 5, 7, 2, 8, 10, 11, 65, 72, 81, 99, 100, 150] and window of 3."
   ]
  },
  {
   "cell_type": "code",
   "execution_count": 2,
   "id": "cdd4ab05",
   "metadata": {},
   "outputs": [
    {
     "name": "stdout",
     "output_type": "stream",
     "text": [
      "Enter the window size:3\n",
      "Moving average values list:  [5.0, 4.67, 5.67, 6.67, 9.67, 28.67, 49.33, 72.67, 84.0, 93.33, 116.33]\n",
      "l-N+1:  11\n"
     ]
    }
   ],
   "source": [
    "def avg(mylist, N):\n",
    "    cumsum, moving_avgs = [0], []\n",
    "    for i, x in enumerate(mylist, 1):\n",
    "        cumsum.append(cumsum[i-1] + x)\n",
    "        if i>=N:\n",
    "            moving_avg = round(((cumsum[i] - cumsum[i-N])/N),2)\n",
    "            moving_avgs.append(moving_avg)\n",
    "    print(\"Moving average values list: \", moving_avgs)\n",
    "    print(\"l-N+1: \", len(moving_avgs))\n",
    "\n",
    "    \n",
    "my_list = [3, 5, 7, 2, 8, 10, 11, 65, 72, 81, 99, 100, 150]\n",
    "window_size = int(input(\"Enter the window size:\"))\n",
    "avg(my_list,window_size)"
   ]
  },
  {
   "cell_type": "markdown",
   "id": "6b2fdbe0",
   "metadata": {},
   "source": [
    "## Write a function so that the columns of the output matrix are powers of the input vector. The order of the powers is determined by the increasing boolean argument. Specifically, when increasing is False, the i-th output column is the input vector raised element-wise to the power of N - i - 1.\n",
    "\n",
    "### HINT: Such a matrix with a geometric progression in each row is named for Alexandre-Theophile Vandermonde."
   ]
  },
  {
   "cell_type": "code",
   "execution_count": 3,
   "id": "150e5fc1",
   "metadata": {},
   "outputs": [],
   "source": [
    "def vander_matrix(input_array,N,boolean_value):\n",
    "    if not boolean_value:\n",
    "        return np.array([x**(N-1-i) for x in input_array for i in range(N)]).reshape(input_array.size,N)\n",
    "    elif boolean_value:\n",
    "        return np.array([x**i for x in input_array for i in range(N)]).reshape(input_array.size,N)"
   ]
  },
  {
   "cell_type": "code",
   "execution_count": 4,
   "id": "ac14ee4d",
   "metadata": {},
   "outputs": [
    {
     "data": {
      "text/plain": [
       "array([[  1,   1,   1,   1],\n",
       "       [  1,   2,   4,   8],\n",
       "       [  1,   3,   9,  27],\n",
       "       [  1,   5,  25, 125],\n",
       "       [  1,   8,  64, 512]])"
      ]
     },
     "execution_count": 4,
     "metadata": {},
     "output_type": "execute_result"
    }
   ],
   "source": [
    "input_array = np.array([1, 2, 3, 5, 8])\n",
    "No_of_col = 4\n",
    "vander_matrix(input_array,No_of_col,True)"
   ]
  },
  {
   "cell_type": "code",
   "execution_count": 5,
   "id": "4926d6c9",
   "metadata": {},
   "outputs": [
    {
     "data": {
      "text/plain": [
       "array([[  1,   1,   1,   1],\n",
       "       [  8,   4,   2,   1],\n",
       "       [ 27,   9,   3,   1],\n",
       "       [125,  25,   5,   1],\n",
       "       [512,  64,   8,   1]])"
      ]
     },
     "execution_count": 5,
     "metadata": {},
     "output_type": "execute_result"
    }
   ],
   "source": [
    "input_array = np.array([1, 2, 3, 5, 8])\n",
    "No_of_col = 4\n",
    "vander_matrix(input_array,No_of_col,False)"
   ]
  },
  {
   "cell_type": "code",
   "execution_count": null,
   "id": "bf61000b",
   "metadata": {},
   "outputs": [],
   "source": []
  }
 ],
 "metadata": {
  "kernelspec": {
   "display_name": "Python 3",
   "language": "python",
   "name": "python3"
  },
  "language_info": {
   "codemirror_mode": {
    "name": "ipython",
    "version": 3
   },
   "file_extension": ".py",
   "mimetype": "text/x-python",
   "name": "python",
   "nbconvert_exporter": "python",
   "pygments_lexer": "ipython3",
   "version": "3.8.5"
  }
 },
 "nbformat": 4,
 "nbformat_minor": 5
}

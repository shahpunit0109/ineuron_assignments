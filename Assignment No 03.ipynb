{
 "cells": [
  {
   "cell_type": "markdown",
   "id": "a84f8d33",
   "metadata": {},
   "source": [
    "# 1.1 Write a Python Program to implement your own myreduce() function which works exactly like Python's built-in function reduce()"
   ]
  },
  {
   "cell_type": "code",
   "execution_count": 1,
   "id": "abb320bf",
   "metadata": {},
   "outputs": [],
   "source": [
    "#find maximum of sequence\n",
    "def myreduce(arg1):\n",
    "    num = len(arg1)\n",
    "    for i in range (num):\n",
    "        for j in range(i + 1, num):\n",
    "            if(arg1[i] > arg1[j]):\n",
    "                temp = arg1[i]\n",
    "                arg1[i] = arg1[j]\n",
    "                arg1[j] = temp\n",
    "    return arg1[-1]"
   ]
  },
  {
   "cell_type": "code",
   "execution_count": 2,
   "id": "637015ab",
   "metadata": {},
   "outputs": [],
   "source": [
    "a =[1,6,34,98,45,59,21,11]"
   ]
  },
  {
   "cell_type": "code",
   "execution_count": 3,
   "id": "6f748534",
   "metadata": {},
   "outputs": [
    {
     "data": {
      "text/plain": [
       "98"
      ]
     },
     "execution_count": 3,
     "metadata": {},
     "output_type": "execute_result"
    }
   ],
   "source": [
    "myreduce(a)"
   ]
  },
  {
   "cell_type": "code",
   "execution_count": 4,
   "id": "5d8cc979",
   "metadata": {},
   "outputs": [],
   "source": [
    "#find the sum of list\n",
    "def myreduce(arg):\n",
    "    sum = 0\n",
    "    for ele in a:\n",
    "        sum += ele\n",
    "    return sum\n",
    "    "
   ]
  },
  {
   "cell_type": "code",
   "execution_count": 5,
   "id": "9217032d",
   "metadata": {},
   "outputs": [],
   "source": [
    "b = [1,6,34,98,45,59,21,11]"
   ]
  },
  {
   "cell_type": "code",
   "execution_count": 6,
   "id": "755e7217",
   "metadata": {},
   "outputs": [
    {
     "data": {
      "text/plain": [
       "275"
      ]
     },
     "execution_count": 6,
     "metadata": {},
     "output_type": "execute_result"
    }
   ],
   "source": [
    "myreduce(b)"
   ]
  },
  {
   "cell_type": "markdown",
   "id": "041c2662",
   "metadata": {},
   "source": [
    "# 1.2 Write a Python program to implement your own myfilter() function which works exactly like Python's built-in function filter()"
   ]
  },
  {
   "cell_type": "code",
   "execution_count": 7,
   "id": "c3a28876",
   "metadata": {},
   "outputs": [],
   "source": [
    "def myfilter(arg):\n",
    "    new_list = []\n",
    "    for ele in arg:\n",
    "        if ele % 2 == 0:\n",
    "            new_list.append(ele)\n",
    "    return new_list"
   ]
  },
  {
   "cell_type": "code",
   "execution_count": 8,
   "id": "7c607367",
   "metadata": {},
   "outputs": [],
   "source": [
    "my_list = [1,4,3,5,6,7,2,88,7,22,34,56,97,11]"
   ]
  },
  {
   "cell_type": "code",
   "execution_count": 9,
   "id": "247ed204",
   "metadata": {},
   "outputs": [
    {
     "data": {
      "text/plain": [
       "[4, 6, 2, 88, 22, 34, 56]"
      ]
     },
     "execution_count": 9,
     "metadata": {},
     "output_type": "execute_result"
    }
   ],
   "source": [
    "myfilter(my_list)"
   ]
  },
  {
   "cell_type": "markdown",
   "id": "71c9cf5a",
   "metadata": {},
   "source": [
    "# 2. Implement List comprehensions to produce the following lists.Write List comprehensions to produce the following Lists"
   ]
  },
  {
   "cell_type": "markdown",
   "id": "af291587",
   "metadata": {},
   "source": [
    "# ['x', 'xx', 'xxx', 'xxxx', 'y', 'yy', 'yyy', 'yyyy', 'z', 'zz', 'zzz', 'zzzz']"
   ]
  },
  {
   "cell_type": "code",
   "execution_count": 10,
   "id": "99f0b98b",
   "metadata": {},
   "outputs": [],
   "source": [
    "data1 = ['x','y','z']\n",
    "list1 = [i*ele for ele in data1 for i in range(1,5)]"
   ]
  },
  {
   "cell_type": "code",
   "execution_count": 11,
   "id": "98adf820",
   "metadata": {},
   "outputs": [
    {
     "data": {
      "text/plain": [
       "['x', 'xx', 'xxx', 'xxxx', 'y', 'yy', 'yyy', 'yyyy', 'z', 'zz', 'zzz', 'zzzz']"
      ]
     },
     "execution_count": 11,
     "metadata": {},
     "output_type": "execute_result"
    }
   ],
   "source": [
    "list1"
   ]
  },
  {
   "cell_type": "markdown",
   "id": "68fcda39",
   "metadata": {},
   "source": [
    "# ['x', 'y', 'z', 'xx', 'yy', 'zz', 'xxx', 'yyy', 'zzz', 'xxxx', 'yyyy', 'zzzz']"
   ]
  },
  {
   "cell_type": "code",
   "execution_count": 12,
   "id": "181c3c12",
   "metadata": {},
   "outputs": [],
   "source": [
    "data2 = ['x','y','z']\n",
    "list2 = [i*ele for i in range(1,5) for ele in data2]"
   ]
  },
  {
   "cell_type": "code",
   "execution_count": 13,
   "id": "89b87250",
   "metadata": {},
   "outputs": [
    {
     "data": {
      "text/plain": [
       "['x', 'y', 'z', 'xx', 'yy', 'zz', 'xxx', 'yyy', 'zzz', 'xxxx', 'yyyy', 'zzzz']"
      ]
     },
     "execution_count": 13,
     "metadata": {},
     "output_type": "execute_result"
    }
   ],
   "source": [
    "list2"
   ]
  },
  {
   "cell_type": "markdown",
   "id": "b3d76130",
   "metadata": {},
   "source": [
    "# [[2], [3], [4], [3], [4], [5], [4], [5], [6]]"
   ]
  },
  {
   "cell_type": "code",
   "execution_count": 14,
   "id": "d0a11db3",
   "metadata": {},
   "outputs": [],
   "source": [
    "data3 = [2,3,4]\n",
    "list3 = [[ele] for i in data3 for ele in range(i,i+3)]"
   ]
  },
  {
   "cell_type": "code",
   "execution_count": 15,
   "id": "6e37fb54",
   "metadata": {},
   "outputs": [
    {
     "data": {
      "text/plain": [
       "[[2], [3], [4], [3], [4], [5], [4], [5], [6]]"
      ]
     },
     "execution_count": 15,
     "metadata": {},
     "output_type": "execute_result"
    }
   ],
   "source": [
    "list3"
   ]
  },
  {
   "cell_type": "markdown",
   "id": "755ef5da",
   "metadata": {},
   "source": [
    "# [[2, 3, 4, 5], [3, 4, 5, 6], [4, 5, 6, 7], [5, 6, 7, 8]]"
   ]
  },
  {
   "cell_type": "code",
   "execution_count": 16,
   "id": "13657b42",
   "metadata": {},
   "outputs": [],
   "source": [
    "data4 = [2,3,4,5]\n",
    "list4 = [[ele+i for i in data4] for ele in range(0,4)]"
   ]
  },
  {
   "cell_type": "code",
   "execution_count": 17,
   "id": "f75a9da8",
   "metadata": {},
   "outputs": [
    {
     "data": {
      "text/plain": [
       "[[2, 3, 4, 5], [3, 4, 5, 6], [4, 5, 6, 7], [5, 6, 7, 8]]"
      ]
     },
     "execution_count": 17,
     "metadata": {},
     "output_type": "execute_result"
    }
   ],
   "source": [
    "list4"
   ]
  },
  {
   "cell_type": "markdown",
   "id": "75d22f2b",
   "metadata": {},
   "source": [
    "# [(1, 1), (2, 1), (3, 1), (1, 2), (2, 2), (3, 2), (1, 3), (2, 3), (3, 3)]"
   ]
  },
  {
   "cell_type": "code",
   "execution_count": 18,
   "id": "91ab9325",
   "metadata": {},
   "outputs": [],
   "source": [
    "data5 = [1,2,3]\n",
    "list5 = [(i,ele) for ele in data5 for i in range(1,4)]"
   ]
  },
  {
   "cell_type": "code",
   "execution_count": 19,
   "id": "27e4ae56",
   "metadata": {},
   "outputs": [
    {
     "data": {
      "text/plain": [
       "[(1, 1), (2, 1), (3, 1), (1, 2), (2, 2), (3, 2), (1, 3), (2, 3), (3, 3)]"
      ]
     },
     "execution_count": 19,
     "metadata": {},
     "output_type": "execute_result"
    }
   ],
   "source": [
    "list5"
   ]
  }
 ],
 "metadata": {
  "kernelspec": {
   "display_name": "Python 3",
   "language": "python",
   "name": "python3"
  },
  "language_info": {
   "codemirror_mode": {
    "name": "ipython",
    "version": 3
   },
   "file_extension": ".py",
   "mimetype": "text/x-python",
   "name": "python",
   "nbconvert_exporter": "python",
   "pygments_lexer": "ipython3",
   "version": "3.8.5"
  }
 },
 "nbformat": 4,
 "nbformat_minor": 5
}

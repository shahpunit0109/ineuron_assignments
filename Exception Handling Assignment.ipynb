{
 "cells": [
  {
   "cell_type": "markdown",
   "id": "5daf4f88",
   "metadata": {},
   "source": [
    "## Write a function to compute 5/0 and use try/except to catch the exceptions."
   ]
  },
  {
   "cell_type": "code",
   "execution_count": 1,
   "id": "fcde3f81",
   "metadata": {},
   "outputs": [
    {
     "name": "stdout",
     "output_type": "stream",
     "text": [
      "Error handled successfully!!!\n"
     ]
    }
   ],
   "source": [
    "def division():\n",
    "    return 5/0\n",
    "\n",
    "try:\n",
    "    division()\n",
    "except ZeroDivisionError:\n",
    "    print(\"Error handled successfully!!!\")"
   ]
  },
  {
   "cell_type": "markdown",
   "id": "5f5b7143",
   "metadata": {},
   "source": [
    "## 2. Implement a Python program to generate all sentences where subject is in\n",
    "## [\"Americans\", \"Indians\"] and verb is in [\"Play\", \"watch\"] and the object is in [\"Baseball\",\"cricket\"].\n",
    "### Hint: Subject,Verb and Object should be declared in the program as shown below.\n",
    "### subjects=[\"Americans \",\"Indians\"]\n",
    "### verbs=[\"play\",\"watch\"]\n",
    "### objects=[\"Baseball\",\"Cricket\"]\n",
    "### Output should come as below:\n",
    "### Americans play Baseball.\n",
    "### Americans play Cricket.\n",
    "### Americans watch Baseball.\n",
    "### Americans watch Cricket.\n",
    "### Indians play Baseball.\n",
    "### Indians play Cricket.\n",
    "### Indians watch Baseball.\n",
    "### Indians watch Cricket."
   ]
  },
  {
   "cell_type": "code",
   "execution_count": 2,
   "id": "0c524b16",
   "metadata": {},
   "outputs": [
    {
     "name": "stdout",
     "output_type": "stream",
     "text": [
      "Americans play Baseball\n",
      "Americans play Cricket\n",
      "Americans watch Baseball\n",
      "Americans watch Cricket\n",
      "Indians play Baseball\n",
      "Indians play Cricket\n",
      "Indians watch Baseball\n",
      "Indians watch Cricket\n"
     ]
    }
   ],
   "source": [
    "subjects=[\"Americans\",\"Indians\"]\n",
    "verbs=[\"play\",\"watch\"]\n",
    "objects=[\"Baseball\",\"Cricket\"]\n",
    "\n",
    "for subject in subjects:\n",
    "    for verb in verbs:\n",
    "        for obj in objects:\n",
    "            print(subject+\" \"+verb+\" \"+obj)"
   ]
  },
  {
   "cell_type": "code",
   "execution_count": null,
   "id": "7750d604",
   "metadata": {},
   "outputs": [],
   "source": []
  }
 ],
 "metadata": {
  "kernelspec": {
   "display_name": "Python 3",
   "language": "python",
   "name": "python3"
  },
  "language_info": {
   "codemirror_mode": {
    "name": "ipython",
    "version": 3
   },
   "file_extension": ".py",
   "mimetype": "text/x-python",
   "name": "python",
   "nbconvert_exporter": "python",
   "pygments_lexer": "ipython3",
   "version": "3.8.5"
  }
 },
 "nbformat": 4,
 "nbformat_minor": 5
}
